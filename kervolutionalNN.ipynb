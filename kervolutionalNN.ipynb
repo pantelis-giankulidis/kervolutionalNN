{
  "nbformat": 4,
  "nbformat_minor": 0,
  "metadata": {
    "colab": {
      "name": "kervolutionalNN.ipynb",
      "provenance": [],
      "collapsed_sections": [],
      "authorship_tag": "ABX9TyPJ2m1tx5OW8ydW6iNHq6Jw",
      "include_colab_link": true
    },
    "kernelspec": {
      "name": "python3",
      "display_name": "Python 3"
    }
  },
  "cells": [
    {
      "cell_type": "markdown",
      "metadata": {
        "id": "view-in-github",
        "colab_type": "text"
      },
      "source": [
        "<a href=\"https://colab.research.google.com/github/pantelis-giankulidis/kervolutionalNN/blob/main/kervolutionalNN.ipynb\" target=\"_parent\"><img src=\"https://colab.research.google.com/assets/colab-badge.svg\" alt=\"Open In Colab\"/></a>"
      ]
    },
    {
      "cell_type": "markdown",
      "metadata": {
        "id": "oVZOms5SllG2"
      },
      "source": [
        "# Convolutional neural networks with polynomial kernels\n",
        "**Introduction**\n",
        "\n",
        "Having been recently proposed,kervolutional neural networks use the kernel trick\n",
        "in the convolution operation to achieve high dimension non-linear hyperplanes for classification. <a href='https://arxiv.org/pdf/1904.03955.pdf'>original paper</a>\n",
        "\n",
        "Let's say that $f(x)= x \\otimes w $ is the convolution between a $[N,C,H,W]$ tensor x, which represents a state of an image and a $[H_w,W_w,C_w]$ filter w.\n",
        "In convolutions,we just multiply the two tensors elementwise and add them.In kervolutions, we instead apply the operation $f(x) = <\\phi(x),\\phi(w)>$,were $\\phi$ is a higher dimensional representation of its input.By going into higher dimensions we can ,in general, capture more difficult relations and thus make more precise classifiactions.\n",
        "\n",
        "Of course, we can avoid this computationally insufficient multiplication $f$ by applying the well-known in Machine Learning literature kernel trick\n",
        "\n",
        "$<\\phi(x),\\phi(w)> = \\sum_{j}c_j(x^{T}w)^{j}=k(x,w)$\n",
        "\n",
        "where $k$ is a kernel function.In this work,we consider the polynomial kernel\n",
        "$K(x,y)=(x^{T}y + c)^{d}$\n",
        "where $c$ and $d$ are hyperparameters of the models.\n",
        "\n",
        "**Experiment procedure**\n",
        "\n",
        "The approach that's followed to find a suitable network architecture for neural networks having kervolutional layers, is the babysitting approach: about 7 to 10 initial different architectures are created and we try to improve performance on each of them.\n",
        "\n",
        "The initial architectures are either naive shallow networks or traditional architectures, as AlexNet where the convolutional layers have been replaced with kervolutional layers.\n",
        "\n",
        "State of the art normalization and optimization techniques are also applied, with the help of PyTorch,but there is no investigation of their impact on the network's performance.\n",
        "\n",
        "\\\\\n",
        "\n",
        "**Convolutional vs kervolutional networks performance**\n",
        "\n",
        "The first assessment of kervolutional networks,is their behaviour in compare to convolutional networks with the same number of trainable parameters.That way,we value the impact of kervolutional layers on neural networks for image classification, regarding convergence and accuracy.\n",
        "\n",
        "\\\\\n",
        "\n",
        "**Impact of Relu**\n",
        "\n",
        "Non-linearity of a traditional neural network is achieved by applying a non-linear activation function.The most popular for computer vision tasks, is the rectified linear unit (Relu) activation function.We value the impact of Relu unit when it is applied after a kervolutional layer and if its nonlinearity helps convergence.\n",
        "\n",
        "\\\\\n",
        "\n",
        "**Pooling layers in a kervolutional network**\n",
        "\n",
        "As mentioned above,non-linearity can be achieved with the kernel trick during convolution, in a kervolutional layer.This means that pooling layers may not be of a positive impact.We value that,as well.\n",
        "\n",
        "\\\\\n",
        "\n",
        "**General assumptions and simplifications**\n",
        "\n",
        "The following have been applied at every network that has been trained.\n",
        "\n",
        "\n",
        "**a)** SGD optimization \\\\\n",
        "**b)** Learning rate ${\\eta}=e^{-2}$ \\\\\n",
        "**c)** Kaiman Weight initialization\n",
        "\n",
        "\n",
        "**Loading the datasets and data preprocessing**\n",
        "\n",
        "In order to use the kervolutional layer implementation of <a href='https://github.com/wang-chen/kervolution'>wang-chen</a> for PyTorch,we have to add the project as a submodule to our project.After doing that,we can simply add a kervolutional layer with *nn.Kerv2d()* and use it as a regular PyTorch module component.  \n",
        "To do so,the following script is executed:\n"
      ]
    },
    {
      "cell_type": "code",
      "metadata": {
        "id": "BvegasMmQ_Zk"
      },
      "source": [
        "!git init\n",
        "!git submodule add https://github.com/wang-chen/kervolution\n",
        "!git add .\n",
        "!git config --global user.email \"pantelis.giankoulidis+1@gmail.com\"\n",
        "!git config --global user.name \"pantelis-giankulidis\"\n",
        "!git commit -m \"Initialization of the project\""
      ],
      "execution_count": null,
      "outputs": []
    },
    {
      "cell_type": "markdown",
      "metadata": {
        "id": "eiVekd3TSfec"
      },
      "source": [
        "The dataset that we will be using,is a subset of the ImageNet dataset,one of the most popular ones for computer vision.We are loading the simple *tiny-imagenet-200* dataset,containing images of 200 different classes,each one with 500 samples,for training. The test set contains 10000 images.\n",
        "\n",
        "\n",
        "\n",
        "**Tiny imagenet**\n",
        "Download the tiny imagenet and create the PyTorch corresponding dataset with the following script"
      ]
    },
    {
      "cell_type": "code",
      "metadata": {
        "id": "8qN0GIhRFXb2"
      },
      "source": [
        "from google.colab import drive \n",
        "from torch.utils.data import Dataset\n",
        "from torch.utils.data import DataLoader\n",
        "from torch.utils.data import sampler\n",
        "from PIL import Image\n",
        "import os\n",
        "import pandas as pd\n",
        "import torch\n",
        "import torchvision.transforms as trans\n",
        "import matplotlib.pyplot as plt\n",
        "\n",
        "drive.mount('/content/drive', force_remount=True)\n",
        "\n",
        "\n",
        "#Download the tiny imagenet dataset from Stanford university and unzip it to Google drive \n",
        "!wget http://cs231n.stanford.edu/tiny-imagenet-200.zip\n",
        "!unzip -qq './tiny-imagenet-200.zip'\n",
        "#!rm './tiny-imagenet-200.zip'\n",
        "\n",
        "\n",
        "#Load dataset with PyTorch for training\n",
        "class tiny_imagenet_200_training_dataset(Dataset):\n",
        "  def __init__(self,train_dir,transform=None):\n",
        "    self.path = train_dir\n",
        "    self.classes = os.listdir(train_dir)\n",
        "    self.images = []\n",
        "    self.classids = dict()\n",
        "    classid=0\n",
        "\n",
        "    for clas in self.classes:\n",
        "      tmp_dir = os.path.join(self.path,clas,'images')\n",
        "      self.classids[clas] = classid\n",
        "\n",
        "      for img in os.listdir(tmp_dir):\n",
        "        self.images.append((os.path.join(tmp_dir,img),classid))\n",
        "      classid+=1\n",
        "\n",
        "    self.transform = transform \n",
        "\n",
        "  def __len__(self):\n",
        "    return len(self.images)\n",
        "\n",
        "  def __getitem__(self,index):\n",
        "    x,y = self.images[index]\n",
        "    x = Image.open(x)\n",
        "    \n",
        "    #We transform Greyscale images to RGB images\n",
        "    if isinstance(x.getpixel((4,5)),int):\n",
        "      x1 = Image.new('RGB',x.size)\n",
        "      data = zip(x.getdata(),x.getdata(),x.getdata())\n",
        "      x1.putdata(list(data))\n",
        "      x=x1\n",
        "      \n",
        "    \n",
        "    if self.transform is not None:\n",
        "      x = self.transform(x)\n",
        "    \n",
        "    return x,y\n",
        "\n",
        "\n",
        "#The transform that we will be using in our experiments is mean subtraction.We hardcode the mean and std for every channel\n",
        "transform = trans.Compose([trans.ToTensor(),\n",
        "                           trans.Normalize((0.5,0.477,0.5),(0.2,0.29,0.24))])\n",
        "\n",
        "\n",
        "#Load dataset with PyTorch for validation\n",
        "class tiny_imagenet_200_val_dataset(Dataset):\n",
        "  def __init__(self,val_dir,classids,transform=None):\n",
        "    self.path = val_dir\n",
        "    self.images = []\n",
        "    with open(os.path.join(val_dir,'val_annotations.txt')) as val:\n",
        "      for line in val:\n",
        "        tmp = line.split(\"\\t\")\n",
        "        self.images.append((os.path.join(val_dir,'images',tmp[0]),classids[tmp[1]]))\n",
        "    self.transform = transform \n",
        "\n",
        "  def __len__(self):\n",
        "    return len(self.images)\n",
        "\n",
        "  def __getitem__(self,index):\n",
        "    x,y = self.images[index]\n",
        "    x = Image.open(x)\n",
        "\n",
        "    if isinstance(x.getpixel((4,5)),int):\n",
        "      x1 = Image.new('RGB',x.size)\n",
        "      data = zip(x.getdata(),x.getdata(),x.getdata())\n",
        "      x1.putdata(list(data))\n",
        "      x=x1\n",
        "\n",
        "    if self.transform is not None:\n",
        "      x = self.transform(x)\n",
        "    \n",
        "    return x,y \n",
        "\n",
        "#Testing proper reading\n",
        "train = tiny_imagenet_200_training_dataset('./tiny-imagenet-200/train',transform)\n",
        "loader_train = DataLoader(train,batch_size=64,sampler=sampler.SubsetRandomSampler(range(100000)))\n",
        "val = tiny_imagenet_200_val_dataset('./tiny-imagenet-200/val',train.classids,transform)\n",
        "loader_val = DataLoader(val,batch_size=64,sampler=sampler.SubsetRandomSampler(range(10000)))"
      ],
      "execution_count": null,
      "outputs": []
    },
    {
      "cell_type": "markdown",
      "metadata": {
        "id": "xD0FiTOmndBn"
      },
      "source": [
        "**Hardware** \\\n",
        "As it is common practice in neural network training,GPUs will be used instead of CPUs.No thoroughly investigation would be proceeded regarding the impact of kervolutional layers on CPU or GPU training,instead some common hardware choices would be made. \\\n",
        "Cuda GPU is going to be used with the default PyTorch settings.Later,with larger datasets,we will make some improvements.\n"
      ]
    },
    {
      "cell_type": "code",
      "metadata": {
        "id": "ZA8m3QknpVjI",
        "colab": {
          "base_uri": "https://localhost:8080/",
          "height": 34
        },
        "outputId": "a055dcef-b18c-421b-d49b-e7b5f85ad72b"
      },
      "source": [
        "if torch.cuda.is_available():\n",
        "  device = torch.device('cuda')\n",
        "else:\n",
        "  device = torch.device('cpu')\n",
        "\n",
        "print('using device: ',device)"
      ],
      "execution_count": null,
      "outputs": [
        {
          "output_type": "stream",
          "text": [
            "using device:  cpu\n"
          ],
          "name": "stdout"
        }
      ]
    },
    {
      "cell_type": "markdown",
      "metadata": {
        "id": "UXWUyBk_px9G"
      },
      "source": [
        "**The training process** \\\n",
        "The training process that is to be followed is the standard for pytorch framework "
      ]
    },
    {
      "cell_type": "code",
      "metadata": {
        "id": "Kt0qaJGsqGu6"
      },
      "source": [
        "#For simplicity and GPU usage efficiency,all values would be torch floats\n",
        "dtype = torch.float32\n",
        "\n",
        "#Checking accuracy every 10 batches to evaluate network's convergence\n",
        "def check_accuracy(loader, model):\n",
        "      \n",
        "    num_correct = 0\n",
        "    num_samples = 0\n",
        "    model.eval()  # set model to evaluation mode\n",
        "    with torch.no_grad():\n",
        "        for x, y in loader:\n",
        "            x = x.to(device=device, dtype=dtype)  # move to device, e.g. GPU\n",
        "            y = y.to(device=device, dtype=torch.long)\n",
        "            scores = model(x)\n",
        "            _, preds = scores.max(1)\n",
        "            num_correct += (preds == y).sum()\n",
        "            num_samples += preds.size(0)\n",
        "        acc = float(num_correct) / num_samples\n",
        "        print('Got %d / %d correct (%.2f)' % (num_correct, num_samples, 100 * acc))\n",
        "        return 100*acc"
      ],
      "execution_count": null,
      "outputs": []
    },
    {
      "cell_type": "code",
      "metadata": {
        "id": "q0WdspK3rSj6"
      },
      "source": [
        "def trainer(model, optimizer, epochs=1):\n",
        "    \"\"\"\n",
        "    Train a model on CIFAR-10 using the PyTorch Module API.\n",
        "    \n",
        "    Inputs:\n",
        "    - model: A PyTorch Module giving the model to train.\n",
        "    - optimizer: An Optimizer object we will use to train the model\n",
        "    - epochs: (Optional) A Python integer giving the number of epochs to train for\n",
        "    \n",
        "    Returns: Nothing, but prints model accuracies during training.\n",
        "    \"\"\"\n",
        "    print_every = 100\n",
        "    convergence = list()\n",
        "    model = model.to(device=device)  # move the model parameters to CPU/GPU\n",
        "    for e in range(epochs):\n",
        "        for t, (x, y) in enumerate(loader_train):\n",
        "            \n",
        "            model.train()  # put model to training mode\n",
        "            x = x.to(device=device, dtype=dtype)  # move to device, e.g. GPU\n",
        "            y = y.to(device=device, dtype=torch.long)\n",
        "\n",
        "            scores = model(x)\n",
        "            loss = F.cross_entropy(scores, y)\n",
        "\n",
        "            # In PyTorch, we need to set the gradients to zero before starting to do backpropragation,\n",
        "            # because PyTorch accumulates the gradients on subsequent backward passes. \n",
        "            # This is convenient while training RNNs but we dont' want this behaviour here.\n",
        "            # Because of this, before we start the backpropagation, we set the gradients to zero\n",
        "            # in order to do the parameter update correctly. Otherwise, the gradient would point in some other direction \n",
        "            # than the intended direction towards the minimum.\n",
        "            optimizer.zero_grad()\n",
        "\n",
        "            # loss.backward() computes dloss/dx for every parameter x which has requires_grad=True.\n",
        "            loss.backward()\n",
        "\n",
        "            # Actually update the parameters of the model using the gradients\n",
        "            # computed by the backwards pass.\n",
        "            optimizer.step()\n",
        "            if t>500:\n",
        "              return convergence\n",
        "              \n",
        "            if t % print_every == 0:\n",
        "                print('Iteration %d, loss = %.4f' % (t, loss.item()))\n",
        "                convergence.append(check_accuracy(loader_val, model))\n",
        "                print()\n",
        "\n",
        "    return convergence"
      ],
      "execution_count": null,
      "outputs": []
    },
    {
      "cell_type": "markdown",
      "metadata": {
        "id": "8Z-XLXL8Rx_H"
      },
      "source": [
        "# **The experiments:A chaviar approach for best architectures**\n",
        "\n",
        "During the first phase of our investigation for the correlation between network architecture and the kervolution operation,several existing ,successful for image recognition, network architectures are choosed,to which we make some layer adjustments,like replacing convolutional layers with kervolutional layers,or removing pooling layers.We create all these networks in parallel and in the end,the best of them,in validation accuracy and time performace would be picked as basis architectures for further investigation. \\\n",
        "An initial simplistic approach is to pick successful architectures that operate a convolution for feature extraction and replace the convolution layers with kervolution layers.Initially,we choose five different architectures for CNNs: \\\n",
        "**a)**A simple two layer network with one convolution layer,with 100 5X5 windows,and a fully connected layer. \\\n",
        "**b)**The LeNet architecture,with the necessary image preprocessing,since the classic LeNet takes,32X32X3 images and our Imagenet dataset provides 64X64X3 sized images. \\\n",
        "**c)**AlexNet,a much deeper than the latter architecture,with roughly 60 million parameters.A data preprocessing is needed here as well,so the network can take 64X64X3 images. \\\n",
        "**d)**Residual networks,recently proposed technique that allows training on very deep networks. \\\n",
        "**e)**Inception network for further investigating the impact of the window to the network's performance.  \n",
        "\n",
        "All these architectures are implemeneted here,for convolution and kervolution networks,with many parameters adjustable so we can create slighly different newtorks to assess.\n",
        "\n",
        "\n",
        "### **Two layer network**\n",
        "A simplistic initial approach would be to train the dataset in a shallow network containing just one hidden,kervolutional layer,with or without Relu and a fully-connected layer afterwards.This way,we can have an initial sense of the difference between convolution and convolution with kernels,in a sense of performance and learning, and their impact in neural networks for computer vision tasks\n"
      ]
    },
    {
      "cell_type": "code",
      "metadata": {
        "id": "6dwD8ceiuHXp"
      },
      "source": [
        "import numpy as np\n",
        "import torch.nn as nn\n",
        "import torch.optim as optim\n",
        "import torch.nn.functional as F\n",
        "import kervolution \n",
        "\n",
        "class TwoLayerKerv(nn.Module):\n",
        "  #Suitable for 64x64 size images\n",
        "  def __init__(self,hid_layer,window_size,num_classes,relu=True):\n",
        "    super().__init__()\n",
        "    padding = 1\n",
        "    #Sole kervolutional layer with hid_layer filters of window_size x window_size x 3 size each\n",
        "    size = 64 + 2*padding - window_size + 1\n",
        "    self.hl = nn.Kerv2d(3,hid_layer,(window_size,window_size),padding=1)\n",
        "    nn.init.kaiming_normal_(self.hl.weight)\n",
        "    self.fc = nn.Linear(hid_layer*size*size,num_classes)\n",
        "    nn.init.kaiming_normal_(self.fc.weight)\n",
        "    self.relu = relu\n",
        "\n",
        "  def forward(self,x):\n",
        "    if self.relu:\n",
        "      x = F.relu(self.hl(x))\n",
        "    else:\n",
        "      x = self.hl(x)\n",
        "\n",
        "    x = x.view(x.shape[0],-1)\n",
        "    \n",
        "    return self.fc(x)\n",
        "  \n",
        "\n",
        "class TwoLayerConv(nn.Module):\n",
        "  def __init__(self,hid_layer,window_size,num_classes,relu=True):\n",
        "    super().__init__()\n",
        "    padding = 1\n",
        "    size = 64 + 2*padding - window_size + 1\n",
        "    self.hl = nn.Conv2d(3,hid_layer,(window_size,window_size),padding=1)\n",
        "    nn.init.kaiming_normal_(self.hl.weight)\n",
        "    self.fc = nn.Linear(hid_layer*size*size,num_classes)\n",
        "    nn.init.kaiming_normal_(self.fc.weight)\n",
        "    self.relu = relu\n",
        "\n",
        "  def forward(self,x):\n",
        "    if self.relu:\n",
        "      x = F.relu(self.hl(x))\n",
        "    else:\n",
        "      x = self.hl(x)\n",
        "\n",
        "    x = x.view(x.shape[0],-1)\n",
        "    return self.fc(x)\n",
        "\n",
        "def test():\n",
        "  x = torch.zeros((64,3,64,64))\n",
        "  model = TwoLayerKerv(12,10)\n",
        "  scores = model(x)\n",
        "  print(\"We should see [64,10]  \",scores.size())\n",
        "\n",
        "  x = torch.zeros((64,3,64,64))\n",
        "  model = TwoLayerConv(12,10)\n",
        "  scores = model(x)\n",
        "  print(\"W eshould see [64,10]   \",scores.size())\n"
      ],
      "execution_count": null,
      "outputs": []
    },
    {
      "cell_type": "markdown",
      "metadata": {
        "id": "_wMaHZBkv3_9"
      },
      "source": [
        "### **LeNet**\n",
        "We now take a classic successful CNN and change its conv layers with same size kerv layers while keeping all other hyperparameters and architecture the same.\\\n",
        "Note that LeNet takes greyscale images as input and it's not a good choice for RGB image classification like ImageNet images we are using.However,we make this experiments to have an initial sense of the correlation between architecture and kervolution.\\\n",
        "We train a classic LeNet and our kervolutional LeNet and compare the two networks. "
      ]
    },
    {
      "cell_type": "code",
      "metadata": {
        "id": "VsTx1028UL2P"
      },
      "source": [
        "class KervLeNet(nn.Module):\n",
        "  def __init__(self,relu=True,pooling=True):\n",
        "    super().__init__()\n",
        "    self.kerv1 = nn.Kerv2d(3, 6 ,(5, 5), padding=0)\n",
        "    self.avgpool1 = nn.AvgPool2d(2,stride=2)\n",
        "    nn.init.kaiming_normal_(self.kerv1.weight)\n",
        "\n",
        "    self.kerv2 = nn.Kerv2d(6,16,(5,5), padding=0)\n",
        "    self.avgpool2 = nn.AvgPool2d(2,stride=2)\n",
        "    nn.init.kaiming_normal_(self.kerv2.weight)\n",
        "\n",
        "    self.fc1 = nn.Linear(2704,120)\n",
        "    nn.init.kaiming_normal_(self.fc1.weight)\n",
        "\n",
        "    self.fc2 = nn.Linear(120,200)\n",
        "    nn.init.kaiming_normal_(self.fc2.weight)\n",
        "\n",
        "    self.relu = relu\n",
        "    self.pooling = pooling\n",
        "\n",
        "  def forward(self,x):\n",
        "    x = self.kerv1(x)\n",
        "\n",
        "    if self.relu:\n",
        "      x = F.relu(x)\n",
        "    if self.pooling:\n",
        "      x = self.avgpool1(x)\n",
        "\n",
        "    x = self.kerv2(x)\n",
        "\n",
        "    if self.relu:\n",
        "      x = F.relu(x)\n",
        "    if self.pooling:\n",
        "      x = self.avgpool2(x)\n",
        "\n",
        "    x = x.view(x.shape[0],-1)\n",
        "    x = self.fc2(self.fc1(x))\n",
        "\n",
        "    return x\n",
        "\n",
        "\n",
        "class ConvLeNet(nn.Module):\n",
        "  def __init__(self,relu=True,pooling=True):\n",
        "    super().__init__()\n",
        "    self.conv1a = nn.Conv2d(3, 6 ,(5, 5), padding=0)\n",
        "    self.avgpool1 = nn.AvgPool2d(2,stride=2)\n",
        "    nn.init.kaiming_normal_(self.conv1a.weight)\n",
        "\n",
        "    self.conv2a = nn.Conv2d(6,16,(5,5))\n",
        "    self.avgpool2 = nn.AvgPool2d(2,stride=2)\n",
        "    nn.init.kaiming_normal_(self.conv2a.weight)\n",
        "\n",
        "    self.fc1 = nn.Linear(2704,120)\n",
        "    nn.init.kaiming_normal_(self.fc1.weight)\n",
        "\n",
        "    self.fc2 = nn.Linear(120,200)\n",
        "    nn.init.kaiming_normal_(self.fc2.weight)\n",
        "\n",
        "    self.relu = relu\n",
        "    self.pooling = pooling\n",
        "\n",
        "  def forward(self,x):\n",
        "    x = self.conv1a(x)\n",
        "\n",
        "    if self.relu:\n",
        "      x = F.relu(x)\n",
        "    if self.pooling:\n",
        "      x = self.avgpool1(x)\n",
        "\n",
        "    x = self.conv2a(x)\n",
        "\n",
        "    if self.relu:\n",
        "      x = F.relu(x)\n",
        "    if self.pooling:\n",
        "      x = self.avgpool2(x)\n",
        "\n",
        "    x = x.view(x.shape[0],-1)\n",
        "    x = self.fc2(self.fc1(x))\n",
        "\n",
        "    return x\n",
        "    "
      ],
      "execution_count": null,
      "outputs": []
    },
    {
      "cell_type": "markdown",
      "metadata": {
        "id": "r2gCYr8EUdDz"
      },
      "source": [
        "### **AlexNet**\n",
        "The revolutionary AlexNet network,intriduced in 2012,takes as input 224X224 sized RGB images and makes image classification to 1000 classes.We must change these parameters of the network to get 64X64 image input and 200 classes-classification. \\\n",
        "The latter is achieved by reducing the size of the output at the last fully connected layer from 1000 to 200.That would also reduce the number of trainable parameters . \\\n",
        "AlexNet also,has the ability that can adjust to the input size automatically.\n",
        "The classic AlexNet in the <a href='https://papers.nips.cc/paper/4824-imagenet-classification-with-deep-convolutional-neural-networks.'>paper</a> has the following architecture where we also provide the output sizes after the operation \\\n",
        "Input   = (3, 224, 224) \\\n",
        "conv1   (96, 54, 54) \\\n",
        "norm1   (96, 54, 54)    \n",
        "pool1   (96, 27, 27) \\\n",
        "\n",
        "conv2   (256, 27, 27) \\\n",
        "norm2   (256, 27, 27) \\\n",
        "pool2   (256, 13, 13) \\\n",
        "\n",
        "conv3   (384, 13, 13) \\\n",
        "conv4   (384, 13, 13) \\\n",
        "conv5   (256, 13, 13) \\\n",
        "pool5   (256, 6, 6) \\\n",
        "\n",
        "fc6     (4096,) \\\n",
        "fc7     (4096,) \\\n",
        "fc8     (1000,) \\\n",
        "\n",
        "\n",
        "\\\n",
        "For our experiments,using the same architecture,we have as outputs: \\\n",
        "Input = (3,64,64) \\\n",
        "conv1(96,15,15) \\\n",
        "norm1(96,15,15) \\\n",
        "pool1(96,8,8) \\\n",
        "\n",
        "conv2(256,8,8) \\\n",
        "norm2(256,8,8) \\\n",
        "pool2(256,4,4) \\\n",
        "\n",
        "conv3(384,4,4) \\\n",
        "conv4(384,4,4) \\\n",
        "conv5(256,4,4) \\\n",
        "pool5(256,2,2) \\\n",
        "\n",
        "fc6(4096,) \\\n",
        "fc7(4096,) \\\n",
        "fc8(200,) \\\n",
        "\n"
      ]
    },
    {
      "cell_type": "code",
      "metadata": {
        "id": "e_0M-nnmU0br"
      },
      "source": [
        "class KervAlex(nn.Module):\n",
        "  def __init__(self,relu=True,pooling=True,normalizer=True):\n",
        "    super().__init__()\n",
        "    self.kerv1 = nn.Kerv2d(3, 96 ,(11, 11), padding=0,stride=4)\n",
        "    self.batchn1 = nn.BatchNorm2d(96)\n",
        "    self.maxpool1 = nn.MaxPool2d(2,stride=2)\n",
        "    nn.init.kaiming_normal_(self.kerv1.weight)\n",
        "\n",
        "    self.kerv2 = nn.Kerv2d(96,256,(5,5), padding=2)\n",
        "    self.batchn2 = nn.BatchNorm2d(256)\n",
        "    self.maxpool2 = nn.MaxPool2d(2,stride=2)\n",
        "    nn.init.kaiming_normal_(self.kerv2.weight)\n",
        "\n",
        "    self.kerv3 = nn.Kerv2d(256,384,(3,3),padding=1)\n",
        "    self.kerv4 = nn.Kerv2d(384,384,(3,3),padding=1)\n",
        "    self.kerv5 = nn.Kerv2d(384,256,(3,3),padding=1)\n",
        "    self.maxpool3 = nn.MaxPool2d(2,stride=2)\n",
        "\n",
        "    self.fc6 = nn.Linear(256,4096)\n",
        "    self.fc7 = nn.Linear(4096,4096)\n",
        "    self.fc8 = nn.Linear(4096,200)\n",
        "\n",
        "    self.relu = relu\n",
        "    self.pooling = pooling\n",
        "\n",
        "  def forward(self,x):\n",
        "    x = self.batchn1(self.kerv1(x))\n",
        "    if self.relu:\n",
        "      x = F.relu(x)\n",
        "    if self.pooling:\n",
        "      x = self.maxpool1(x)\n",
        "\n",
        "    x = self.batchn2(self.kerv2(x))\n",
        "    if self.relu:\n",
        "      x = F.relu(x)\n",
        "    if self.pooling:\n",
        "      x = self.maxpool2(x)\n",
        "    \n",
        "    x = self.kerv5(self.kerv4(self.kerv3(x)))\n",
        "    \n",
        "    if self.pooling:\n",
        "      x = self.maxpool3(x)\n",
        "\n",
        "    x = x.view(x.shape[0],-1)\n",
        "    x = self.fc8(self.fc7(self.fc6(x)))\n",
        "    \n",
        "    return x\n",
        "\n",
        "#For convolutional alexnet transfer learning will be used"
      ],
      "execution_count": null,
      "outputs": []
    },
    {
      "cell_type": "markdown",
      "metadata": {
        "id": "Ru-h_lwVVDXq"
      },
      "source": [
        "### **VGG-16**\n",
        "Another popular architecture with very good performance is <a href='https://arxiv.org/pdf/1409.1556.pdf'>VGG</a>.VGG networks have a pattern in their architecture which is very interesting to experience with,when attempts are being made for construction of a new architecture. \\\n",
        "[[CONV]xN -->[POOL]]xM --> [FC]xO"
      ]
    },
    {
      "cell_type": "code",
      "metadata": {
        "id": "8TyiV4KdYBmq"
      },
      "source": [
        "class KervVGG(nn.Module):\n",
        "  def __init__(self,relu=True,pooling=True):\n",
        "    super.__init__()\n",
        "\n",
        "    self.conv1 = nn.konv2d()\n",
        "  def forward(self,x):\n",
        "    pass"
      ],
      "execution_count": null,
      "outputs": []
    },
    {
      "cell_type": "markdown",
      "metadata": {
        "id": "GeytZpFpYbuH"
      },
      "source": [
        "# **Part 1:Kervolution vs convolution networks**\n",
        "After creating the basic popular CNN architecture,it's time for the trial and error investigation about the networks where the kernel trick in convolution increases the performance more in contrast to the relevant CNN. "
      ]
    },
    {
      "cell_type": "code",
      "metadata": {
        "id": "XPFyByee9wwd",
        "colab": {
          "base_uri": "https://localhost:8080/",
          "height": 1000
        },
        "outputId": "127d34b5-539b-4894-db95-f3b33430cef9"
      },
      "source": [
        "#Stochastic gradient descent optimizer is going to be used,for all the network's training,with learning rate e-2\n",
        "learning_rate = 1e-2\n",
        "\n",
        "# Swallow networks with one convolution layer containing 12 3x3 filters \n",
        "model = TwoLayerKerv(12,3,200)\n",
        "model2 = TwoLayerConv(12,3,200)\n",
        "\n",
        "# SWallow networks with one convolution layer containing 32 3x3 filters\n",
        "model3 = TwoLayerKerv(32,3,200)\n",
        "model4 = TwoLayerConv(32,3,200)\n",
        "\n",
        "\n",
        "print(\"Training process for kervolutional network with two layers and 12 filters\")\n",
        "c1 = trainer(model,optim.SGD(model.parameters(),lr=learning_rate))\n",
        "\n",
        "print(\"Training process for convolutional network with two layers and 12 filters\")\n",
        "c2 = trainer(model2,optim.SGD(model2.parameters(),lr=learning_rate))\n",
        "\n",
        "print(\"Training process for kervolutional network with two layers and 32 filters\")\n",
        "c3 = trainer(model3,optim.SGD(model3.parameters(),lr=learning_rate))\n",
        "\n",
        "print(\"Training process for convolutional network with two layers and 32 filters\")\n",
        "c4 = trainer(model4,optim.SGD(model4.parameters(),lr=learning_rate))\n"
      ],
      "execution_count": null,
      "outputs": [
        {
          "output_type": "stream",
          "text": [
            "Training process for kervolutional network with two layers and 12 filters\n",
            "Iteration 0, loss = 6.4847\n",
            "Got 64 / 10000 correct (0.64)\n",
            "\n",
            "Iteration 100, loss = 5.3807\n",
            "Got 279 / 10000 correct (2.79)\n",
            "\n",
            "Iteration 200, loss = 4.9787\n",
            "Got 388 / 10000 correct (3.88)\n",
            "\n",
            "Iteration 300, loss = 4.9519\n",
            "Got 543 / 10000 correct (5.43)\n",
            "\n",
            "Iteration 400, loss = 4.6853\n",
            "Got 574 / 10000 correct (5.74)\n",
            "\n",
            "Iteration 500, loss = 4.6503\n",
            "Got 620 / 10000 correct (6.20)\n",
            "\n",
            "Training process for convolutional network with two layers and 12 filters\n",
            "Iteration 0, loss = 6.8359\n",
            "Got 62 / 10000 correct (0.62)\n",
            "\n",
            "Iteration 100, loss = 5.2501\n",
            "Got 331 / 10000 correct (3.31)\n",
            "\n",
            "Iteration 200, loss = 5.1067\n",
            "Got 397 / 10000 correct (3.97)\n",
            "\n",
            "Iteration 300, loss = 5.0849\n",
            "Got 511 / 10000 correct (5.11)\n",
            "\n",
            "Iteration 400, loss = 4.6157\n",
            "Got 665 / 10000 correct (6.65)\n",
            "\n",
            "Iteration 500, loss = 4.8285\n",
            "Got 695 / 10000 correct (6.95)\n",
            "\n",
            "Training process for kervolutional network with two layers and 32 filters\n",
            "Iteration 0, loss = 7.0852\n",
            "Got 69 / 10000 correct (0.69)\n",
            "\n",
            "Iteration 100, loss = 5.2691\n",
            "Got 396 / 10000 correct (3.96)\n",
            "\n",
            "Iteration 200, loss = 5.0003\n",
            "Got 600 / 10000 correct (6.00)\n",
            "\n",
            "Iteration 300, loss = 5.0303\n",
            "Got 662 / 10000 correct (6.62)\n",
            "\n",
            "Iteration 400, loss = 4.6141\n",
            "Got 730 / 10000 correct (7.30)\n",
            "\n",
            "Iteration 500, loss = 4.6867\n",
            "Got 838 / 10000 correct (8.38)\n",
            "\n",
            "Training process for convolutional network with two layers and 32 filters\n",
            "Iteration 0, loss = 6.4993\n",
            "Got 65 / 10000 correct (0.65)\n",
            "\n",
            "Iteration 100, loss = 5.7527\n",
            "Got 245 / 10000 correct (2.45)\n",
            "\n",
            "Iteration 200, loss = 5.8294\n",
            "Got 428 / 10000 correct (4.28)\n",
            "\n",
            "Iteration 300, loss = 4.7200\n",
            "Got 607 / 10000 correct (6.07)\n",
            "\n",
            "Iteration 400, loss = 4.6961\n",
            "Got 680 / 10000 correct (6.80)\n",
            "\n",
            "Iteration 500, loss = 4.3403\n",
            "Got 759 / 10000 correct (7.59)\n",
            "\n"
          ],
          "name": "stdout"
        }
      ]
    },
    {
      "cell_type": "code",
      "metadata": {
        "id": "I51iWvXuQgPx",
        "colab": {
          "base_uri": "https://localhost:8080/",
          "height": 313
        },
        "outputId": "3eb63aab-14ba-4d11-f1da-903ccce74c08"
      },
      "source": [
        "\n",
        "plt.plot(c1,label=\"Kerv 12 \")\n",
        "plt.plot(c2,label=\"Conv 12\")\n",
        "plt.plot(c3, label=\"Kerv 32\")\n",
        "plt.plot(c4, label=\"Conv 32\")\n",
        "plt.legend()\n",
        "plt.xlabel(\"Validation accuracy (%) \")\n",
        "plt.figure(figsize=(250,512))"
      ],
      "execution_count": null,
      "outputs": [
        {
          "output_type": "execute_result",
          "data": {
            "text/plain": [
              "<Figure size 18000x36864 with 0 Axes>"
            ]
          },
          "metadata": {
            "tags": []
          },
          "execution_count": 13
        },
        {
          "output_type": "display_data",
          "data": {
            "image/png": "[encoded data removed]",
            "text/plain": [
              "<Figure size 432x288 with 1 Axes>"
            ]
          },
          "metadata": {
            "tags": [],
            "needs_background": "light"
          }
        },
        {
          "output_type": "display_data",
          "data": {
            "text/plain": [
              "<Figure size 18000x36864 with 0 Axes>"
            ]
          },
          "metadata": {
            "tags": []
          }
        }
      ]
    },
    {
      "cell_type": "markdown",
      "metadata": {
        "id": "c7NvfxpJ-iHR"
      },
      "source": [
        "The results are promising,because we see that kervolutional networks converge more quickly than simple concolutional layers.\n",
        "It is well known that deeper neural networks tend to find out more difficult relations and differences between classes.Here,a classic Lenet network using kernels in the convolution layers is evaluated."
      ]
    },
    {
      "cell_type": "code",
      "metadata": {
        "id": "28rzi1ev-_Hy",
        "colab": {
          "base_uri": "https://localhost:8080/",
          "height": 629
        },
        "outputId": "072ee1cf-8333-4966-8e34-239db0babf6c"
      },
      "source": [
        "# Lenet networks with relu activation and pooling layers\n",
        "modelLN = KervLeNet()\n",
        "modelLN2 = ConvLeNet()\n",
        "\n",
        "c11 = trainer(modelLN,optim.SGD(modelLN.parameters(),lr=1e-2))\n",
        "c12 = trainer(modelLN2,optim.SGD(modelLN2.parameters(),lr=1e-2))"
      ],
      "execution_count": null,
      "outputs": [
        {
          "output_type": "stream",
          "text": [
            "Iteration 0, loss = 6.6406\n",
            "Got 40 / 10000 correct (0.40)\n",
            "\n",
            "Iteration 100, loss = 5.3326\n",
            "Got 110 / 10000 correct (1.10)\n",
            "\n",
            "Iteration 200, loss = 5.2024\n",
            "Got 158 / 10000 correct (1.58)\n",
            "\n",
            "Iteration 300, loss = 5.1951\n",
            "Got 174 / 10000 correct (1.74)\n",
            "\n",
            "Iteration 400, loss = 5.1223\n",
            "Got 183 / 10000 correct (1.83)\n",
            "\n",
            "Iteration 500, loss = 5.1356\n",
            "Got 239 / 10000 correct (2.39)\n",
            "\n",
            "Iteration 0, loss = 7.9955\n",
            "Got 53 / 10000 correct (0.53)\n",
            "\n",
            "Iteration 100, loss = 5.2777\n",
            "Got 102 / 10000 correct (1.02)\n",
            "\n",
            "Iteration 200, loss = 5.2504\n",
            "Got 143 / 10000 correct (1.43)\n",
            "\n",
            "Iteration 300, loss = 5.2271\n",
            "Got 156 / 10000 correct (1.56)\n",
            "\n",
            "Iteration 400, loss = 5.1646\n",
            "Got 176 / 10000 correct (1.76)\n",
            "\n",
            "Iteration 500, loss = 5.1893\n",
            "Got 231 / 10000 correct (2.31)\n",
            "\n"
          ],
          "name": "stdout"
        }
      ]
    },
    {
      "cell_type": "code",
      "metadata": {
        "id": "nzyBQHDqlgzx",
        "colab": {
          "base_uri": "https://localhost:8080/",
          "height": 313
        },
        "outputId": "9a1c54d2-a4ff-49b1-8d65-9b7c9fd06292"
      },
      "source": [
        "plt.plot(c11, label=\"Kerv LeNet\")\n",
        "plt.plot(c12, label=\"Conv LeNet\")\n",
        "plt.legend()\n",
        "plt.xlabel(\"Validation accuracy (%) \")\n",
        "plt.figure(figsize=(250,512))"
      ],
      "execution_count": null,
      "outputs": [
        {
          "output_type": "execute_result",
          "data": {
            "text/plain": [
              "<Figure size 18000x36864 with 0 Axes>"
            ]
          },
          "metadata": {
            "tags": []
          },
          "execution_count": 16
        },
        {
          "output_type": "display_data",
          "data": {
            "image/png": "[encoded data removed]",
            "text/plain": [
              "<Figure size 432x288 with 1 Axes>"
            ]
          },
          "metadata": {
            "tags": [],
            "needs_background": "light"
          }
        },
        {
          "output_type": "display_data",
          "data": {
            "text/plain": [
              "<Figure size 18000x36864 with 0 Axes>"
            ]
          },
          "metadata": {
            "tags": []
          }
        }
      ]
    },
    {
      "cell_type": "markdown",
      "metadata": {
        "id": "DFG2muScyeUW"
      },
      "source": [
        "LeNet also show faster convergence with kervolutional layer rather than a simple convolutional layer. \\\\\n",
        "Let's continue our comparisons in the successful AlexNet "
      ]
    },
    {
      "cell_type": "code",
      "metadata": {
        "id": "qtuxeNB_ylqB",
        "colab": {
          "base_uri": "https://localhost:8080/",
          "height": 34
        },
        "outputId": "578d40b0-ffc5-486d-a4b0-e54c63771393"
      },
      "source": [
        "modelAlex = KervAlex()\n",
        "modelAlex2 = torch.hub.load('pytorch/vision:v0.6.0', 'alexnet', pretrained=True)\n",
        "\n",
        "c21 = trainer(modelAlex,optim.SGD(modelAlex.parameters(),lr=1e-2))\n",
        "c22 = modelAlex2.eval()"
      ],
      "execution_count": null,
      "outputs": [
        {
          "output_type": "stream",
          "text": [
            "Using cache found in /root/.cache/torch/hub/pytorch_vision_v0.6.0\n"
          ],
          "name": "stderr"
        }
      ]
    },
    {
      "cell_type": "code",
      "metadata": {
        "id": "MQNXHz87mO6l"
      },
      "source": [
        "plt.plot(c21, label=\"Kerv ALexNet\")\n",
        "plt.plot(c22, label=\"Conv AlexNet\")\n",
        "plt.legend()\n",
        "plt.xlabel(\"Validation accuracy (%) \")\n",
        "plt.figure(figsize=(250,512))"
      ],
      "execution_count": null,
      "outputs": []
    },
    {
      "cell_type": "markdown",
      "metadata": {
        "id": "GeyvMqfdzFyM"
      },
      "source": [
        "In the deeper networks,like AlexNet the diversity in convergence speed is even more obvious;as we see,kervolutional AlexNet achieves accuracy of 10% in half iterations than the original AlexNet. \\\\\n",
        "Finally,the performance of polynomial kernels in the convolution process is going to be evaluated for one much deeper architecture,the popular VGG-16."
      ]
    },
    {
      "cell_type": "code",
      "metadata": {
        "id": "h36nGfdlzVUH"
      },
      "source": [
        "modelVGG = KervVGG()\n",
        "modelVGG2 = torch.hub.load('pytorch/vision:v0.6.0', 'vgg16', pretrained=True)\n",
        "\n",
        "c31 = trainer(modelVGG,optim.SGG(modelVGG.parameters(),lr=1e-2))\n",
        "c32 = modelVGG2.eval()"
      ],
      "execution_count": null,
      "outputs": []
    },
    {
      "cell_type": "code",
      "metadata": {
        "id": "l_3lpUz-mfcZ"
      },
      "source": [
        "plt.plot(c31, label=\"Kerv vgg16\")\n",
        "plt.plot(c32, label=\"Conv vgg16\")\n",
        "plt.legend()\n",
        "plt.xlabel(\"Validation accuracy (%) \")\n",
        "plt.figure(figsize=(250,512))"
      ],
      "execution_count": null,
      "outputs": []
    },
    {
      "cell_type": "markdown",
      "metadata": {
        "id": "xg8ZVLVTxUi_"
      },
      "source": [
        "# **Part 2:Kervolution networks with and without ReLU**\n",
        "Here,we are going to compare the impact of Relu non-linearity in to our kervolutional layers.We will make the same experiments in kervolution layers as before,but now we will compare kervolution networks with and without ReLu activations.\n"
      ]
    },
    {
      "cell_type": "code",
      "metadata": {
        "id": "fvVrvtZem4XK"
      },
      "source": [
        "#Stochastic gradient descent optimizer is going to be used,for all the network's training,with learning rate e-2\n",
        "learning_rate = 1e-2\n",
        "\n",
        "# Swallow networks with one convolution layer containing 12 3x3 filters \n",
        "modelA = TwoLayerKerv(12,3,200,False)\n",
        "modelA2 = TwoLayerKerv(12,3,200)\n",
        "\n",
        "# SWallow networks with one convolution layer containing 32 3x3 filters\n",
        "modelB = TwoLayerKerv(32,3,200,False)\n",
        "modelB2 = TwoLayerKerv(32,3,200)\n",
        "\n",
        "\n",
        "print(\"Training process for kervolutional network with two layers and 12 filters\")\n",
        "c1 = trainer(modelA,optim.SGD(model.parameters(),lr=learning_rate))\n",
        "\n",
        "print(\"Training process for convolutional network with two layers and 12 filters\")\n",
        "c2 = trainer(modelA2,optim.SGD(model2.parameters(),lr=learning_rate))\n",
        "\n",
        "print(\"Training process for kervolutional network with two layers and 32 filters\")\n",
        "c3 = trainer(modelB,optim.SGD(model3.parameters(),lr=learning_rate))\n",
        "\n",
        "print(\"Training process for convolutional network with two layers and 32 filters\")\n",
        "c4 = trainer(modelB2,optim.SGD(model4.parameters(),lr=learning_rate))"
      ],
      "execution_count": null,
      "outputs": []
    },
    {
      "cell_type": "code",
      "metadata": {
        "id": "D1vBpEhJqAWl"
      },
      "source": [
        "plt.plot(c1, label=\"Kerv 16 no relu\")\n",
        "plt.plot(c2, label=\"Conv 16 relu\")\n",
        "plt.plot(c3, label=\"Kerv 32 no Relu\")\n",
        "plt.plot(c4, label=\"Kerv 32 relu\")\n",
        "plt.legend()\n",
        "plt.xlabel(\"Validation accuracy (%) \")\n",
        "plt.figure(figsize=(250,512))"
      ],
      "execution_count": null,
      "outputs": []
    },
    {
      "cell_type": "markdown",
      "metadata": {
        "id": "xEk2JAhtqZRU"
      },
      "source": [
        "As we see,rectified linear unit doesn't have any affect in the network when it uses polynomial kernel in its convolution layers.This means that we can remove them.\n",
        "\n",
        "**Conclusion**\n",
        "As it became clear from the exepriments,using polynomial kernels leads to faster convergence in all the popular CNN.Also,using the kernel trick guarantees non-linearity in the final hyperplane,so there is no need for activation function.In the experiments in Kervolutional networks with and without Relu there was no difference in accuracy and convergence. \\\\\n",
        "Some interesting further investigation would consider other successful techniques used in neural networks and their impact in this specific type of convolutional networks using polynomial kernel,like batch normalization."
      ]
    }
  ]
}
